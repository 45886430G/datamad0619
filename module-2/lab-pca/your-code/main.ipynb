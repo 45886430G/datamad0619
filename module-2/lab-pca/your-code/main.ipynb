{
 "cells": [
  {
   "cell_type": "markdown",
   "metadata": {},
   "source": [
    "# Before your start:\n",
    "- Read the README.md file\n",
    "- Comment as much as you can and use the resources (README.md file)\n",
    "- Happy learning!"
   ]
  },
  {
   "cell_type": "code",
   "execution_count": 1,
   "metadata": {},
   "outputs": [],
   "source": [
    "# Run this code:\n",
    "\n",
    "%matplotlib inline\n",
    "\n",
    "import matplotlib.pyplot as plt"
   ]
  },
  {
   "cell_type": "code",
   "execution_count": 2,
   "metadata": {},
   "outputs": [],
   "source": [
    "# Import numpy and pandas:\n",
    "import numpy as np\n",
    "import pandas as pd\n"
   ]
  },
  {
   "cell_type": "markdown",
   "metadata": {},
   "source": [
    "# Challenge 1 - Reading and Standardizing the Data\n",
    "\n",
    "In this challenge we will work with image data and reduce the dimensions of the data to create a 2 dimensional plot. While we have not worked much with image data before, it can be represented as a numpy array where each pixel is assigned a numeric value. In this lesson, we will look at a dataset of cats and a dataset of dogs and see whether reducing them to two dimensions allows us to see if the data is separable. We will start by loading and processing the data. Run the cell below to load the two csv files and convert them into numpy arrays."
   ]
  },
  {
   "cell_type": "code",
   "execution_count": 3,
   "metadata": {},
   "outputs": [],
   "source": [
    "# Run this code\n",
    "\n",
    "cats = np.array(pd.read_csv(\"https://raw.githubusercontent.com/bioramble/pca/master/cat.csv\", header=None))\n",
    "dogs = np.array(pd.read_csv(\"https://raw.githubusercontent.com/bioramble/pca/master/dog.csv\", header=None))"
   ]
  },
  {
   "cell_type": "markdown",
   "metadata": {},
   "source": [
    "Next, we'll examine the shape of both the cats and the dogs arrays. Print out both shapes below."
   ]
  },
  {
   "cell_type": "code",
   "execution_count": 4,
   "metadata": {},
   "outputs": [
    {
     "data": {
      "text/plain": [
       "array([[ 64,  23, 250, ...,  60, 223, 101],\n",
       "       [ 64,  23, 250, ...,  50, 224, 107],\n",
       "       [ 64,  20, 250, ...,  63, 225, 106],\n",
       "       ...,\n",
       "       [ 64,  31, 244, ..., 105, 180, 114],\n",
       "       [ 64,  23, 232, ..., 118, 182,  91],\n",
       "       [ 61,   9, 244, ..., 104, 177, 113]])"
      ]
     },
     "execution_count": 4,
     "metadata": {},
     "output_type": "execute_result"
    }
   ],
   "source": [
    "# Your code here:\n",
    "cats"
   ]
  },
  {
   "cell_type": "code",
   "execution_count": 5,
   "metadata": {},
   "outputs": [
    {
     "data": {
      "text/plain": [
       "array([[224, 131, 127, ...,   6,  30, 197],\n",
       "       [224, 124, 136, ...,  10,  69, 199],\n",
       "       [224, 104, 127, ...,   6,  69, 195],\n",
       "       ...,\n",
       "       [100, 104, 115, ...,   7, 163, 166],\n",
       "       [100, 124, 104, ...,  10, 140, 170],\n",
       "       [100, 124, 104, ...,   7, 140, 171]])"
      ]
     },
     "execution_count": 5,
     "metadata": {},
     "output_type": "execute_result"
    }
   ],
   "source": [
    "dogs"
   ]
  },
  {
   "cell_type": "markdown",
   "metadata": {},
   "source": [
    "What this means is that both arrays contain 80 images each (the number of columns). Each image is comprised of 64x64 pixels (so a total of 4096 pixels per image). The images have been flattened such that all 4096 are in a single row.\n",
    "\n",
    "Print out column 0 of the cats array to see what the pixels values look like."
   ]
  },
  {
   "cell_type": "code",
   "execution_count": 6,
   "metadata": {},
   "outputs": [
    {
     "name": "stdout",
     "output_type": "stream",
     "text": [
      "[ 64  23 250 137  55 173  18 134  19  47 109 164  41  78 108 108 247 105\n",
      " 158  54 103   4  23 102 239  72  42  21 168 109 112 177  22 233  15 236\n",
      " 250 137  32   5 178 109  24 107  53 241 226 143   5 136  98 100  89  66\n",
      " 228  92 255  88 230  56 160  69   6  24 195 183 239  35 154 154 122  18\n",
      "  87 106 174  69  28  60 223 101]\n"
     ]
    }
   ],
   "source": [
    "# Your code here:\n",
    "print(cats[0])\n"
   ]
  },
  {
   "cell_type": "markdown",
   "metadata": {},
   "source": [
    "Using `matplotlib` we can plot a single cat or a single dog. We do this by reshaping the vector back to a 64x64 image and then using the `imshow` function.\n",
    "\n",
    "Run the code below to look at the first dog and the first cat."
   ]
  },
  {
   "cell_type": "code",
   "execution_count": 7,
   "metadata": {},
   "outputs": [
    {
     "data": {
      "text/plain": [
       "<matplotlib.image.AxesImage at 0x7f802899e8d0>"
      ]
     },
     "execution_count": 7,
     "metadata": {},
     "output_type": "execute_result"
    },
    {
     "data": {
      "image/png": "[encoded data removed]",
      "text/plain": [
       "<Figure size 432x288 with 1 Axes>"
      ]
     },
     "metadata": {
      "needs_background": "light"
     },
     "output_type": "display_data"
    }
   ],
   "source": [
    "# Run this code:\n",
    "\n",
    "fig, ax = plt.subplots()\n",
    "ax.imshow(cats[:,0].reshape(64, 64).T, cmap=plt.cm.bone, interpolation='nearest') "
   ]
  },
  {
   "cell_type": "code",
   "execution_count": 8,
   "metadata": {},
   "outputs": [
    {
     "data": {
      "text/plain": [
       "<matplotlib.image.AxesImage at 0x7f802899e470>"
      ]
     },
     "execution_count": 8,
     "metadata": {},
     "output_type": "execute_result"
    },
    {
     "data": {
      "image/png": "[encoded data removed]",
      "text/plain": [
       "<Figure size 432x288 with 1 Axes>"
      ]
     },
     "metadata": {
      "needs_background": "light"
     },
     "output_type": "display_data"
    }
   ],
   "source": [
    "# Run this code:\n",
    "\n",
    "fig, ax = plt.subplots()\n",
    "ax.imshow(dogs[:,0].reshape(64, 64).T, cmap=plt.cm.bone, interpolation='nearest') "
   ]
  },
  {
   "cell_type": "markdown",
   "metadata": {},
   "source": [
    "Next, we would like to create a standardization function. This function will find the mean and standard deviation of each image. We subtract the mean from each pixel and divide each pixel by the standard deviation. Write the function below.\n",
    "\n",
    "Hint: To find the mean and standard deviation of each image, use `numpy`'s version of mean and stadnard deviation and use `axis=0`."
   ]
  },
  {
   "cell_type": "code",
   "execution_count": 9,
   "metadata": {},
   "outputs": [
    {
     "data": {
      "text/plain": [
       "array([[-1., -1., -1.],\n",
       "       [ 1.,  1.,  1.]])"
      ]
     },
     "execution_count": 9,
     "metadata": {},
     "output_type": "execute_result"
    }
   ],
   "source": [
    "#def standardize(x):\n",
    "    #This function takes as input a numpy array and returns a stadardized numpy array of the same dimensions.\n",
    "    #Sample input: np.array([[1,2,3],[4,5,6]])\n",
    "    #Sample output: np.array([[-1,-1,-1],[1,1,1]])\n",
    "    \n",
    "    # Your code here:\n",
    "\n",
    "def standardize(x):\n",
    "    mean = np.mean(x, axis=0)\n",
    "    std = np.std(x, axis=0)\n",
    "    rescaled = (x - mean)/std\n",
    "    return rescaled\n",
    "\n",
    "standardize([[1,2,3],[4,5,6]])"
   ]
  },
  {
   "cell_type": "markdown",
   "metadata": {},
   "source": [
    "Now, use the `np.concatenate` function to combine the cats and dogs arrays. Use `axis=1` to combine the two correctly. Make sure to put dogs first."
   ]
  },
  {
   "cell_type": "code",
   "execution_count": 10,
   "metadata": {},
   "outputs": [],
   "source": [
    "# Your code here:\n",
    "perretesygatetes = np.concatenate((cats, dogs), axis=1)"
   ]
  },
  {
   "cell_type": "markdown",
   "metadata": {},
   "source": [
    "Standardize the concatenated array below."
   ]
  },
  {
   "cell_type": "code",
   "execution_count": 11,
   "metadata": {},
   "outputs": [],
   "source": [
    "# Your code here:\n",
    "\n",
    "homogenizedPets = standardize(perretesygatetes)"
   ]
  },
  {
   "cell_type": "markdown",
   "metadata": {},
   "source": [
    "# Challenge 2 - Using PCA\n",
    "\n",
    "Now that we have created a standardized matrix of cats and dogs, we'll find the two most important components in the data.\n",
    "\n",
    "Load the `PCA` function from `statsmodels` (read about this function [here](https://www.statsmodels.org/dev/generated/statsmodels.multivariate.pca.PCA.html)) and apply the function to our standarized data. Create a PCA model with two components."
   ]
  },
  {
   "cell_type": "code",
   "execution_count": 12,
   "metadata": {},
   "outputs": [],
   "source": [
    "from statsmodels.multivariate.pca import PCA"
   ]
  },
  {
   "cell_type": "markdown",
   "metadata": {},
   "source": [
    "Use `numpy` to find to transpose the standardized pet array. This will help us compute the projection."
   ]
  },
  {
   "cell_type": "code",
   "execution_count": null,
   "metadata": {},
   "outputs": [],
   "source": [
    "transpoese_pets = np.transpose(homogenizedPets, axes=None)"
   ]
  },
  {
   "cell_type": "code",
   "execution_count": 26,
   "metadata": {},
   "outputs": [],
   "source": [
    "pc = PCA(homogenizedPets, standardize=False)"
   ]
  },
  {
   "cell_type": "code",
   "execution_count": 27,
   "metadata": {},
   "outputs": [],
   "source": [
    "pc = PCA(homogenizedPets, ncomp=2, method='nipals')"
   ]
  },
  {
   "cell_type": "code",
   "execution_count": 28,
   "metadata": {},
   "outputs": [
    {
     "data": {
      "text/plain": [
       "Principal Component Analysis(nobs: 4096, nvar: 160, transformation: Standardize (Correlation), normalization: True, number of components: 2, SVD, id: 0x7f8027f57cf8)"
      ]
     },
     "execution_count": 28,
     "metadata": {},
     "output_type": "execute_result"
    }
   ],
   "source": [
    "pc"
   ]
  },
  {
   "cell_type": "code",
   "execution_count": 29,
   "metadata": {},
   "outputs": [
    {
     "data": {
      "text/plain": [
       "(4096, 2)"
      ]
     },
     "execution_count": 29,
     "metadata": {},
     "output_type": "execute_result"
    }
   ],
   "source": [
    "pc.factors.shape"
   ]
  },
  {
   "cell_type": "markdown",
   "metadata": {},
   "source": [
    "Find the dot product of the transposed standardized pet matrix and the `factors` of the `PCA` model found above. This will be the projection onto 2 dimensions. This means that each cat and dog image will now only have two columns instead of 4096."
   ]
  },
  {
   "cell_type": "code",
   "execution_count": 30,
   "metadata": {},
   "outputs": [],
   "source": [
    "dos_factores_PyG = np.dot(transpoese_pets, pc.factors)"
   ]
  },
  {
   "cell_type": "code",
   "execution_count": 31,
   "metadata": {},
   "outputs": [
    {
     "data": {
      "text/plain": [
       "array([[ 15.65535295,  14.21897074],\n",
       "       [ 49.69180911,   1.02037826],\n",
       "       [-48.16605215,   3.75285856],\n",
       "       [-41.0071047 ,  -1.33593632],\n",
       "       [ 30.17992552,  17.50528155],\n",
       "       [ 20.8686339 ,  32.92673461],\n",
       "       [ 41.40505367,  -2.9667782 ],\n",
       "       [  5.21364722,  16.98706004],\n",
       "       [ 42.36328122,   7.61915438],\n",
       "       [ 21.04212549,  17.22318104],\n",
       "       [ -0.06504763,   4.65422429],\n",
       "       [ -5.76076353,   4.41333214],\n",
       "       [ 51.7992668 ,   9.90289617],\n",
       "       [ 30.32243581,  11.90543995],\n",
       "       [-28.89795848,  13.75861304],\n",
       "       [ 39.16125274,  16.44553406],\n",
       "       [-28.95400851,  10.90627301],\n",
       "       [ 33.24421913,  10.47683342],\n",
       "       [-42.83268855,  -0.79075196],\n",
       "       [ 50.59949332,   4.93944198],\n",
       "       [-10.98031397,  12.22131312],\n",
       "       [ 35.53242406,  -1.86619101],\n",
       "       [ 35.51807391, -13.04056168],\n",
       "       [ 34.03177644, -32.11339302],\n",
       "       [-51.60182984,   5.87829851],\n",
       "       [  7.0381326 , -21.65566495],\n",
       "       [ 34.95042411,  18.00925292],\n",
       "       [ 31.57987618, -18.19118121],\n",
       "       [-21.39636046,   2.50186725],\n",
       "       [ 20.89018001,  10.41387098],\n",
       "       [  2.45031457,  16.67033501],\n",
       "       [-12.37522842,  15.44005264],\n",
       "       [ 18.4537203 ,  29.59434771],\n",
       "       [-52.93563324,  11.18385614],\n",
       "       [ 51.11217722,  -2.09035206],\n",
       "       [  7.59579638, -11.95933914],\n",
       "       [-50.48353353,  -1.91898417],\n",
       "       [ 42.99247764,   7.89967704],\n",
       "       [ 20.95311317, -20.34638458],\n",
       "       [ 15.53886025,  14.33033963],\n",
       "       [  7.32305547,  19.4713575 ],\n",
       "       [ 27.14081011,  18.14728573],\n",
       "       [ 54.45924032, -14.5093614 ],\n",
       "       [ 32.01232144, -20.60282613],\n",
       "       [ 51.83625192, -18.8161654 ],\n",
       "       [-33.45974593,  14.89452824],\n",
       "       [-34.07465065,  -4.51066802],\n",
       "       [-28.69953832,   9.90745976],\n",
       "       [ 50.72387298,  -4.89768614],\n",
       "       [ -1.19880381,   8.45762907],\n",
       "       [ 24.96539628,  15.11449869],\n",
       "       [ 15.91631209, -11.81330757],\n",
       "       [ 46.15267889,  15.58838372],\n",
       "       [ 36.02326552,  13.22930841],\n",
       "       [-18.57496884,  20.47991482],\n",
       "       [ 38.89770604,  17.92761104],\n",
       "       [ 36.33162004,  22.06667012],\n",
       "       [ 19.51124576,  -9.24727053],\n",
       "       [-32.96577534,  27.70327257],\n",
       "       [ 21.72991076, -34.16990169],\n",
       "       [  1.7370524 ,  -1.20377334],\n",
       "       [ 21.3863917 ,  14.19442748],\n",
       "       [ 39.50116755,  10.46721248],\n",
       "       [ 42.06328827, -10.96522795],\n",
       "       [-25.0981977 ,   2.38537663],\n",
       "       [  7.0360373 ,  18.4704823 ],\n",
       "       [-51.02431966,   7.68601999],\n",
       "       [  3.59105203,  -0.4072402 ],\n",
       "       [-22.24744956,   6.5463813 ],\n",
       "       [-32.66740378,  -4.59164766],\n",
       "       [-15.71567155,   3.60468473],\n",
       "       [ 35.02622182, -11.9957104 ],\n",
       "       [ 10.98905935,  14.44502572],\n",
       "       [ -2.00560438,  -3.83356204],\n",
       "       [-11.08836321,  -0.66005748],\n",
       "       [ 26.88997624, -19.08646236],\n",
       "       [ 32.94241664, -23.68806397],\n",
       "       [ 45.69201379, -12.846912  ],\n",
       "       [-17.0738933 ,  -3.83187507],\n",
       "       [  8.079065  ,  12.94274831],\n",
       "       [-42.47761899,  14.71820908],\n",
       "       [-32.18870526, -19.26629982],\n",
       "       [ 12.96322769, -18.02197417],\n",
       "       [ -5.08306003, -32.95557139],\n",
       "       [-32.86623215,   4.11968524],\n",
       "       [  8.78857586, -45.1891147 ],\n",
       "       [-22.15299981, -13.23328645],\n",
       "       [-14.30958976, -39.06161033],\n",
       "       [-12.40851808, -38.71301095],\n",
       "       [-39.47642425,   2.20718619],\n",
       "       [ -0.35046435, -35.54740519],\n",
       "       [-21.77649951, -17.65748886],\n",
       "       [ -8.50969102, -16.73090581],\n",
       "       [  3.05954869, -17.98269226],\n",
       "       [-19.18304905, -31.80632922],\n",
       "       [-17.58125668, -33.59730013],\n",
       "       [-16.02471838,  -8.31219836],\n",
       "       [-39.03886488, -21.24295565],\n",
       "       [-18.40609062, -28.73759357],\n",
       "       [-15.5699172 , -44.77293801],\n",
       "       [  3.62520406, -35.80142644],\n",
       "       [ -1.61532906, -38.34791135],\n",
       "       [ -9.82059008, -15.26815022],\n",
       "       [-11.86783899, -40.88818171],\n",
       "       [-27.13786141, -30.69675554],\n",
       "       [ -0.22735175, -43.29906422],\n",
       "       [  3.7104863 , -28.80944941],\n",
       "       [ -0.89249659, -22.90354164],\n",
       "       [-13.60771322, -47.36631143],\n",
       "       [ -9.70728656, -24.72057428],\n",
       "       [ -4.79092612, -30.6560824 ],\n",
       "       [ -7.39104042, -27.00402224],\n",
       "       [-30.12429396, -29.2540433 ],\n",
       "       [-13.20286611, -35.49209121],\n",
       "       [  7.26399329, -38.20544074],\n",
       "       [-15.86070193, -14.86048502],\n",
       "       [ 14.20330231, -37.91625459],\n",
       "       [ -1.40728046, -31.60202076],\n",
       "       [  6.57712513, -43.05144178],\n",
       "       [-28.66199356, -19.04026932],\n",
       "       [-17.05064189, -40.12970532],\n",
       "       [-11.4772512 ,  16.68520303],\n",
       "       [ 10.07338458, -32.85932154],\n",
       "       [-15.18663212, -27.12325544],\n",
       "       [  8.06078442, -16.13287935],\n",
       "       [-20.23250606,  22.41075448],\n",
       "       [-26.57190755,   8.3974674 ],\n",
       "       [ -6.95850709,  -8.00496762],\n",
       "       [-15.25017702,  11.79988552],\n",
       "       [ 16.51520029, -34.45325351],\n",
       "       [-29.47850642,  11.07707498],\n",
       "       [-36.66240946,  26.75660692],\n",
       "       [ -6.11590978,  15.14224018],\n",
       "       [ 21.80417541, -40.23379109],\n",
       "       [ 21.58426205,  -4.97128334],\n",
       "       [ 14.00421706,  -3.74912203],\n",
       "       [-29.15009915,   6.2286405 ],\n",
       "       [-14.8411488 ,  12.18740864],\n",
       "       [ 16.64985292, -26.88390407],\n",
       "       [  2.07149283, -30.33384021],\n",
       "       [ -7.74221489, -39.11739193],\n",
       "       [-31.01785013,  21.47526709],\n",
       "       [-31.00859666,   5.51331586],\n",
       "       [ 22.9426555 ,   2.94354547],\n",
       "       [ 10.6927109 ,  -8.91738519],\n",
       "       [-27.32238787,  -0.1163959 ],\n",
       "       [ -5.074801  ,  21.97111436],\n",
       "       [ 32.22521941, -11.42313102],\n",
       "       [  2.30123971,  -3.26423575],\n",
       "       [-22.66197198, -28.9428863 ],\n",
       "       [ 10.60817598, -11.76083188],\n",
       "       [  1.007461  , -31.92658098],\n",
       "       [-26.41890968, -25.3215309 ],\n",
       "       [ 21.07571929, -24.10695871],\n",
       "       [-10.27199203,  25.03302856],\n",
       "       [-39.86955949,   5.87497221],\n",
       "       [-33.23089137,  -8.66939179],\n",
       "       [  8.28176156, -34.6306463 ],\n",
       "       [  3.35185753, -33.18823575],\n",
       "       [-39.01239973,   2.67781112]])"
      ]
     },
     "execution_count": 31,
     "metadata": {},
     "output_type": "execute_result"
    }
   ],
   "source": [
    "dos_factores_PyG"
   ]
  },
  {
   "cell_type": "markdown",
   "metadata": {},
   "source": [
    "# Challenge 3 - Plotting the Data\n",
    "\n",
    "Now that we have reduced our cats and dogs arrays, we can easily plot the data in a way that the human eye can understand. We can look at this plot to see whether there are differences between the cat and dog images. \n",
    "\n",
    "In the cell below, turn the two dimensional projection into a pandas dataframe and name the columns `pc1`, and `pc2` respectively."
   ]
  },
  {
   "cell_type": "code",
   "execution_count": 40,
   "metadata": {},
   "outputs": [],
   "source": [
    "dataPets = pd.DataFrame(dos_factores_PyG, columns= [[\"pc1\",\"pc2\"]])"
   ]
  },
  {
   "cell_type": "code",
   "execution_count": 42,
   "metadata": {},
   "outputs": [
    {
     "data": {
      "text/html": [
       "<div>\n",
       "<style scoped>\n",
       "    .dataframe tbody tr th:only-of-type {\n",
       "        vertical-align: middle;\n",
       "    }\n",
       "\n",
       "    .dataframe tbody tr th {\n",
       "        vertical-align: top;\n",
       "    }\n",
       "\n",
       "    .dataframe thead tr th {\n",
       "        text-align: left;\n",
       "    }\n",
       "</style>\n",
       "<table border=\"1\" class=\"dataframe\">\n",
       "  <thead>\n",
       "    <tr>\n",
       "      <th></th>\n",
       "      <th>pc1</th>\n",
       "      <th>pc2</th>\n",
       "    </tr>\n",
       "  </thead>\n",
       "  <tbody>\n",
       "    <tr>\n",
       "      <th>0</th>\n",
       "      <td>15.655353</td>\n",
       "      <td>14.218971</td>\n",
       "    </tr>\n",
       "    <tr>\n",
       "      <th>1</th>\n",
       "      <td>49.691809</td>\n",
       "      <td>1.020378</td>\n",
       "    </tr>\n",
       "    <tr>\n",
       "      <th>2</th>\n",
       "      <td>-48.166052</td>\n",
       "      <td>3.752859</td>\n",
       "    </tr>\n",
       "    <tr>\n",
       "      <th>3</th>\n",
       "      <td>-41.007105</td>\n",
       "      <td>-1.335936</td>\n",
       "    </tr>\n",
       "    <tr>\n",
       "      <th>4</th>\n",
       "      <td>30.179926</td>\n",
       "      <td>17.505282</td>\n",
       "    </tr>\n",
       "  </tbody>\n",
       "</table>\n",
       "</div>"
      ],
      "text/plain": [
       "         pc1        pc2\n",
       "0  15.655353  14.218971\n",
       "1  49.691809   1.020378\n",
       "2 -48.166052   3.752859\n",
       "3 -41.007105  -1.335936\n",
       "4  30.179926  17.505282"
      ]
     },
     "execution_count": 42,
     "metadata": {},
     "output_type": "execute_result"
    }
   ],
   "source": [
    "dataPets.head()"
   ]
  },
  {
   "cell_type": "markdown",
   "metadata": {},
   "source": [
    "Create a labels list. This list will be of size 160. The first 80 elements in the list will be the word `blue`, and the last 80 elements will be `red`. This will ensure that all dog observations will be colored in blue and all cats will be colored in red. Name this list `colors`."
   ]
  },
  {
   "cell_type": "code",
   "execution_count": 50,
   "metadata": {},
   "outputs": [],
   "source": [
    "colores = ['Green']*80 + ['Purple']*80\n"
   ]
  },
  {
   "cell_type": "markdown",
   "metadata": {},
   "source": [
    "Create a scatter plot of `pc1` and `pc2` below. Use the `colors` list above to color the observations by setting `c=colors`."
   ]
  },
  {
   "cell_type": "code",
   "execution_count": 51,
   "metadata": {},
   "outputs": [
    {
     "data": {
      "text/plain": [
       "<matplotlib.collections.PathCollection at 0x7f8026364438>"
      ]
     },
     "execution_count": 51,
     "metadata": {},
     "output_type": "execute_result"
    },
    {
     "data": {
      "image/png": "[encoded data removed]",
      "text/plain": [
       "<Figure size 432x288 with 1 Axes>"
      ]
     },
     "metadata": {
      "needs_background": "light"
     },
     "output_type": "display_data"
    }
   ],
   "source": [
    "plt.scatter(dataPets.pc1,dataPets.pc2,c=colores)"
   ]
  },
  {
   "cell_type": "markdown",
   "metadata": {},
   "source": [
    "Do you see a clear separation between cats and dogs? Write your answer below."
   ]
  },
  {
   "cell_type": "raw",
   "metadata": {},
   "source": [
    "Se puede ver una clara separación entre ambas mascotas, encontrandose los gatos en valores mayormente en los valores negativos y los perros en los positivos pero sin ser de manera polarizada ya que confluyen bastantes puntos entorno al valor 0.\n"
   ]
  }
 ],
 "metadata": {
  "kernelspec": {
   "display_name": "Python 3",
   "language": "python",
   "name": "python3"
  },
  "language_info": {
   "codemirror_mode": {
    "name": "ipython",
    "version": 3
   },
   "file_extension": ".py",
   "mimetype": "text/x-python",
   "name": "python",
   "nbconvert_exporter": "python",
   "pygments_lexer": "ipython3",
   "version": "3.7.3"
  }
 },
 "nbformat": 4,
 "nbformat_minor": 2
}
